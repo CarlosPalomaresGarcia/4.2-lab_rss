{
 "cells": [
  {
   "cell_type": "markdown",
   "metadata": {},
   "source": [
    "# Working with RSS Feeds Lab\n",
    "\n",
    "Complete the following set of exercises to solidify your knowledge of parsing RSS feeds and extracting information from them."
   ]
  },
  {
   "cell_type": "code",
   "execution_count": 2,
   "metadata": {},
   "outputs": [
    {
     "name": "stdout",
     "output_type": "stream",
     "text": [
      "Collecting feedparser\n",
      "  Downloading feedparser-6.0.10-py3-none-any.whl (81 kB)\n",
      "     -------------------------------------- 81.1/81.1 kB 283.5 kB/s eta 0:00:00\n",
      "Collecting sgmllib3k\n",
      "  Downloading sgmllib3k-1.0.0.tar.gz (5.8 kB)\n",
      "  Preparing metadata (setup.py): started\n",
      "  Preparing metadata (setup.py): finished with status 'done'\n",
      "Building wheels for collected packages: sgmllib3k\n",
      "  Building wheel for sgmllib3k (setup.py): started\n",
      "  Building wheel for sgmllib3k (setup.py): finished with status 'done'\n",
      "  Created wheel for sgmllib3k: filename=sgmllib3k-1.0.0-py3-none-any.whl size=6048 sha256=8257b8d1f5a59a3dafc4a2690d1015e05fbfe35f0a8f717bf0e10e5d42b93c23\n",
      "  Stored in directory: c:\\users\\carlo\\appdata\\local\\pip\\cache\\wheels\\65\\7a\\a7\\78c287f64e401255dff4c13fdbc672fed5efbfd21c530114e1\n",
      "Successfully built sgmllib3k\n",
      "Installing collected packages: sgmllib3k, feedparser\n",
      "Successfully installed feedparser-6.0.10 sgmllib3k-1.0.0\n",
      "Note: you may need to restart the kernel to use updated packages.\n"
     ]
    }
   ],
   "source": [
    "%pip install feedparser\n",
    "import feedparser"
   ]
  },
  {
   "cell_type": "markdown",
   "metadata": {},
   "source": [
    "### 1. Use feedparser to parse the following RSS feed URL."
   ]
  },
  {
   "cell_type": "code",
   "execution_count": 5,
   "metadata": {},
   "outputs": [],
   "source": [
    "nasa = feedparser.parse('https://www.nasa.gov/content/nasa-rss-feeds')"
   ]
  },
  {
   "cell_type": "markdown",
   "metadata": {},
   "source": [
    "### 2. Obtain a list of components (keys) that are available for this feed."
   ]
  },
  {
   "cell_type": "code",
   "execution_count": 7,
   "metadata": {},
   "outputs": [
    {
     "data": {
      "text/plain": [
       "dict_keys(['bozo', 'entries', 'feed', 'headers', 'etag', 'updated', 'updated_parsed', 'href', 'status', 'encoding', 'bozo_exception', 'version', 'namespaces'])"
      ]
     },
     "execution_count": 7,
     "metadata": {},
     "output_type": "execute_result"
    }
   ],
   "source": [
    "nasa.keys()"
   ]
  },
  {
   "cell_type": "markdown",
   "metadata": {},
   "source": [
    "### 3. Obtain a list of components (keys) that are available for the *feed* component of this RSS feed."
   ]
  },
  {
   "cell_type": "code",
   "execution_count": 8,
   "metadata": {},
   "outputs": [
    {
     "data": {
      "text/plain": [
       "dict_keys(['html', 'meta', 'links', 'script', 'summary'])"
      ]
     },
     "execution_count": 8,
     "metadata": {},
     "output_type": "execute_result"
    }
   ],
   "source": [
    "nasa['feed'].keys()"
   ]
  },
  {
   "cell_type": "markdown",
   "metadata": {},
   "source": [
    "### 4. Extract and print the feed title, subtitle, author, and link."
   ]
  },
  {
   "cell_type": "code",
   "execution_count": 36,
   "metadata": {},
   "outputs": [
    {
     "name": "stdout",
     "output_type": "stream",
     "text": [
      "NASA Breaking News\n",
      "A RSS news feed containing the latest NASA news articles and press releases.\n",
      "jim.wilson@nasa.gov\n",
      "http://www.nasa.gov/\n"
     ]
    }
   ],
   "source": [
    "# En la URL que nos paso Yona no hay title, uso otra.\n",
    "url_question4 = feedparser.parse('https://www.nasa.gov/rss/dyn/breaking_news.rss')\n",
    "print(url_question4['feed']['title'])\n",
    "print(url_question4['feed']['subtitle'])\n",
    "print(url_question4['feed']['author'])\n",
    "print(url_question4['feed']['link'])"
   ]
  },
  {
   "cell_type": "markdown",
   "metadata": {},
   "source": [
    "### 5. Count the number of entries that are contained in this RSS feed."
   ]
  },
  {
   "cell_type": "code",
   "execution_count": 44,
   "metadata": {},
   "outputs": [
    {
     "data": {
      "text/plain": [
       "10"
      ]
     },
     "execution_count": 44,
     "metadata": {},
     "output_type": "execute_result"
    }
   ],
   "source": [
    "len(url_question4['entries'])"
   ]
  },
  {
   "cell_type": "markdown",
   "metadata": {},
   "source": [
    "### 6. Obtain a list of components (keys) available for an entry.\n",
    "\n",
    "*Hint: Remember to index first before requesting the keys*"
   ]
  },
  {
   "cell_type": "code",
   "execution_count": 65,
   "metadata": {},
   "outputs": [
    {
     "data": {
      "text/plain": [
       "{'title': 'Entrepreneurs to Pitch Ideas for Future in NASA ‘Space Tank’',\n",
       " 'title_detail': {'type': 'text/plain',\n",
       "  'language': 'en',\n",
       "  'base': 'http://www.nasa.gov/',\n",
       "  'value': 'Entrepreneurs to Pitch Ideas for Future in NASA ‘Space Tank’'},\n",
       " 'links': [{'rel': 'alternate',\n",
       "   'type': 'text/html',\n",
       "   'href': 'http://www.nasa.gov/press-release/entrepreneurs-to-pitch-ideas-for-future-in-nasa-space-tank'},\n",
       "  {'length': '4800279',\n",
       "   'type': 'image/jpeg',\n",
       "   'href': 'http://www.nasa.gov/sites/default/files/styles/1x1_cardfeed/public/thumbnails/image/52573355372_8094630f72_o.jpeg?itok=VJU7wP3c',\n",
       "   'rel': 'enclosure'}],\n",
       " 'link': 'http://www.nasa.gov/press-release/entrepreneurs-to-pitch-ideas-for-future-in-nasa-space-tank',\n",
       " 'summary': 'College students in NASA’s Minority University Research and Education Project (MUREP) Innovation and Technology Tech Transfer Idea Competition (MITTIC) will pitch their projects during a “Space Tank” at Space Center Houston on Friday, April 28. The competition will begin at 9:30 a.m. EDT, and the winning team will be announced at 1 p.m.',\n",
       " 'summary_detail': {'type': 'text/html',\n",
       "  'language': 'en',\n",
       "  'base': 'http://www.nasa.gov/',\n",
       "  'value': 'College students in NASA’s Minority University Research and Education Project (MUREP) Innovation and Technology Tech Transfer Idea Competition (MITTIC) will pitch their projects during a “Space Tank” at Space Center Houston on Friday, April 28. The competition will begin at 9:30 a.m. EDT, and the winning team will be announced at 1 p.m.'},\n",
       " 'id': 'http://www.nasa.gov/press-release/entrepreneurs-to-pitch-ideas-for-future-in-nasa-space-tank',\n",
       " 'guidislink': False,\n",
       " 'published': 'Thu, 27 Apr 2023 14:02 EDT',\n",
       " 'published_parsed': time.struct_time(tm_year=2023, tm_mon=4, tm_mday=27, tm_hour=18, tm_min=2, tm_sec=0, tm_wday=3, tm_yday=117, tm_isdst=0),\n",
       " 'source': {'href': 'http://www.nasa.gov/rss/dyn/breaking_news.rss',\n",
       "  'title': 'NASA Breaking News'},\n",
       " 'dc_identifier': '486922'}"
      ]
     },
     "execution_count": 65,
     "metadata": {},
     "output_type": "execute_result"
    }
   ],
   "source": [
    "url_question4['entries'][0].keys()"
   ]
  },
  {
   "cell_type": "markdown",
   "metadata": {},
   "source": [
    "### 7. Extract a list of entry titles."
   ]
  },
  {
   "cell_type": "code",
   "execution_count": 74,
   "metadata": {},
   "outputs": [
    {
     "data": {
      "text/plain": [
       "['NASA Sets Coverage for Dragon Port Relocation on Space Station',\n",
       " 'Entrepreneurs to Pitch Ideas for Future in NASA ‘Space Tank’',\n",
       " 'NASA Updates Coverage of Roscosmos Spacewalks at Space Station',\n",
       " 'NASA Sets Coverage for Czech Republic Artemis Accords Signing Ceremony',\n",
       " 'NASA Experts Available for Interviews About Sea and Sky Campaign',\n",
       " 'NASA Announces Winners of 2023 Human Exploration Rover Challenge',\n",
       " 'NASA Selects 12 Companies to Collaborate on Key Technology Development',\n",
       " 'NASA Announces Student Winners of Power to Explore Challenge',\n",
       " 'NASA, Rocket Lab Set Coverage for Tropical Cyclones Mission',\n",
       " 'VP Harris, South Korea President Yoon Suk Yeol to Visit NASA Goddard']"
      ]
     },
     "execution_count": 74,
     "metadata": {},
     "output_type": "execute_result"
    }
   ],
   "source": [
    "question7 = []\n",
    "\n",
    "for entry in url_question4.entries:\n",
    "    question7.append(entry.title)\n",
    "question7"
   ]
  },
  {
   "cell_type": "markdown",
   "metadata": {},
   "source": [
    "### 8. Calculate the percentage of \"Four short links\" entry titles."
   ]
  },
  {
   "cell_type": "code",
   "execution_count": null,
   "metadata": {},
   "outputs": [],
   "source": [
    "# No se puede responder"
   ]
  },
  {
   "cell_type": "markdown",
   "metadata": {},
   "source": [
    "### 9. Create a Pandas data frame from the feed's entries."
   ]
  },
  {
   "cell_type": "code",
   "execution_count": 81,
   "metadata": {},
   "outputs": [],
   "source": [
    "import pandas as pd"
   ]
  },
  {
   "cell_type": "code",
   "execution_count": 101,
   "metadata": {},
   "outputs": [
    {
     "data": {
      "text/plain": [
       "dict_keys(['bozo', 'entries', 'feed', 'headers', 'href', 'status', 'encoding', 'version', 'namespaces'])"
      ]
     },
     "execution_count": 101,
     "metadata": {},
     "output_type": "execute_result"
    }
   ],
   "source": [
    "url_question4.keys()\n",
    "#  No entiendo bien lo que me estan pidiendo.\n",
    "# Opcion1: las entradas que hay dentro de 'feed'\n",
    "# Opcion2: las 'entries' dentro de la url."
   ]
  },
  {
   "cell_type": "code",
   "execution_count": 110,
   "metadata": {},
   "outputs": [
    {
     "data": {
      "text/html": [
       "<div>\n",
       "<style scoped>\n",
       "    .dataframe tbody tr th:only-of-type {\n",
       "        vertical-align: middle;\n",
       "    }\n",
       "\n",
       "    .dataframe tbody tr th {\n",
       "        vertical-align: top;\n",
       "    }\n",
       "\n",
       "    .dataframe thead th {\n",
       "        text-align: right;\n",
       "    }\n",
       "</style>\n",
       "<table border=\"1\" class=\"dataframe\">\n",
       "  <thead>\n",
       "    <tr style=\"text-align: right;\">\n",
       "      <th></th>\n",
       "      <th>title</th>\n",
       "      <th>title_detail</th>\n",
       "      <th>links</th>\n",
       "      <th>link</th>\n",
       "      <th>summary</th>\n",
       "      <th>summary_detail</th>\n",
       "      <th>id</th>\n",
       "      <th>guidislink</th>\n",
       "      <th>published</th>\n",
       "      <th>published_parsed</th>\n",
       "      <th>source</th>\n",
       "      <th>dc_identifier</th>\n",
       "    </tr>\n",
       "  </thead>\n",
       "  <tbody>\n",
       "    <tr>\n",
       "      <th>0</th>\n",
       "      <td>NASA Sets Coverage for Dragon Port Relocation ...</td>\n",
       "      <td>{'type': 'text/plain', 'language': 'en', 'base...</td>\n",
       "      <td>[{'rel': 'alternate', 'type': 'text/html', 'hr...</td>\n",
       "      <td>http://www.nasa.gov/press-release/nasa-sets-co...</td>\n",
       "      <td>Four crew members aboard the International Spa...</td>\n",
       "      <td>{'type': 'text/html', 'language': 'en', 'base'...</td>\n",
       "      <td>http://www.nasa.gov/press-release/nasa-sets-co...</td>\n",
       "      <td>False</td>\n",
       "      <td>Mon, 01 May 2023 15:06 EDT</td>\n",
       "      <td>(2023, 5, 1, 19, 6, 0, 0, 121, 0)</td>\n",
       "      <td>{'href': 'http://www.nasa.gov/rss/dyn/breaking...</td>\n",
       "      <td>486960</td>\n",
       "    </tr>\n",
       "    <tr>\n",
       "      <th>1</th>\n",
       "      <td>Entrepreneurs to Pitch Ideas for Future in NAS...</td>\n",
       "      <td>{'type': 'text/plain', 'language': 'en', 'base...</td>\n",
       "      <td>[{'rel': 'alternate', 'type': 'text/html', 'hr...</td>\n",
       "      <td>http://www.nasa.gov/press-release/entrepreneur...</td>\n",
       "      <td>College students in NASA’s Minority University...</td>\n",
       "      <td>{'type': 'text/html', 'language': 'en', 'base'...</td>\n",
       "      <td>http://www.nasa.gov/press-release/entrepreneur...</td>\n",
       "      <td>False</td>\n",
       "      <td>Thu, 27 Apr 2023 14:02 EDT</td>\n",
       "      <td>(2023, 4, 27, 18, 2, 0, 3, 117, 0)</td>\n",
       "      <td>{'href': 'http://www.nasa.gov/rss/dyn/breaking...</td>\n",
       "      <td>486922</td>\n",
       "    </tr>\n",
       "    <tr>\n",
       "      <th>2</th>\n",
       "      <td>NASA Updates Coverage of Roscosmos Spacewalks ...</td>\n",
       "      <td>{'type': 'text/plain', 'language': 'en', 'base...</td>\n",
       "      <td>[{'rel': 'alternate', 'type': 'text/html', 'hr...</td>\n",
       "      <td>http://www.nasa.gov/press-release/nasa-updates...</td>\n",
       "      <td>NASA will provide live coverage as two Roscosm...</td>\n",
       "      <td>{'type': 'text/html', 'language': 'en', 'base'...</td>\n",
       "      <td>http://www.nasa.gov/press-release/nasa-updates...</td>\n",
       "      <td>False</td>\n",
       "      <td>Wed, 26 Apr 2023 14:59 EDT</td>\n",
       "      <td>(2023, 4, 26, 18, 59, 0, 2, 116, 0)</td>\n",
       "      <td>{'href': 'http://www.nasa.gov/rss/dyn/breaking...</td>\n",
       "      <td>486897</td>\n",
       "    </tr>\n",
       "    <tr>\n",
       "      <th>3</th>\n",
       "      <td>NASA Sets Coverage for Czech Republic Artemis ...</td>\n",
       "      <td>{'type': 'text/plain', 'language': 'en', 'base...</td>\n",
       "      <td>[{'rel': 'alternate', 'type': 'text/html', 'hr...</td>\n",
       "      <td>http://www.nasa.gov/press-release/nasa-sets-co...</td>\n",
       "      <td>The Czech Republic is expected to sign the Art...</td>\n",
       "      <td>{'type': 'text/html', 'language': 'en', 'base'...</td>\n",
       "      <td>http://www.nasa.gov/press-release/nasa-sets-co...</td>\n",
       "      <td>False</td>\n",
       "      <td>Wed, 26 Apr 2023 14:49 EDT</td>\n",
       "      <td>(2023, 4, 26, 18, 49, 0, 2, 116, 0)</td>\n",
       "      <td>{'href': 'http://www.nasa.gov/rss/dyn/breaking...</td>\n",
       "      <td>486898</td>\n",
       "    </tr>\n",
       "    <tr>\n",
       "      <th>4</th>\n",
       "      <td>NASA Experts Available for Interviews About Se...</td>\n",
       "      <td>{'type': 'text/plain', 'language': 'en', 'base...</td>\n",
       "      <td>[{'rel': 'alternate', 'type': 'text/html', 'hr...</td>\n",
       "      <td>http://www.nasa.gov/press-release/nasa-experts...</td>\n",
       "      <td>This spring, NASA’s S-MODE (Sub-Mesoscale Ocea...</td>\n",
       "      <td>{'type': 'text/html', 'language': 'en', 'base'...</td>\n",
       "      <td>http://www.nasa.gov/press-release/nasa-experts...</td>\n",
       "      <td>False</td>\n",
       "      <td>Wed, 26 Apr 2023 14:09 EDT</td>\n",
       "      <td>(2023, 4, 26, 18, 9, 0, 2, 116, 0)</td>\n",
       "      <td>{'href': 'http://www.nasa.gov/rss/dyn/breaking...</td>\n",
       "      <td>486894</td>\n",
       "    </tr>\n",
       "    <tr>\n",
       "      <th>5</th>\n",
       "      <td>NASA Announces Winners of 2023 Human Explorati...</td>\n",
       "      <td>{'type': 'text/plain', 'language': 'en', 'base...</td>\n",
       "      <td>[{'rel': 'alternate', 'type': 'text/html', 'hr...</td>\n",
       "      <td>http://www.nasa.gov/press-release/nasa-announc...</td>\n",
       "      <td>NASA has announced the winners of the 2023 Hum...</td>\n",
       "      <td>{'type': 'text/html', 'language': 'en', 'base'...</td>\n",
       "      <td>http://www.nasa.gov/press-release/nasa-announc...</td>\n",
       "      <td>False</td>\n",
       "      <td>Wed, 26 Apr 2023 09:04 EDT</td>\n",
       "      <td>(2023, 4, 26, 13, 4, 0, 2, 116, 0)</td>\n",
       "      <td>{'href': 'http://www.nasa.gov/rss/dyn/breaking...</td>\n",
       "      <td>486884</td>\n",
       "    </tr>\n",
       "    <tr>\n",
       "      <th>6</th>\n",
       "      <td>NASA Selects 12 Companies to Collaborate on Ke...</td>\n",
       "      <td>{'type': 'text/plain', 'language': 'en', 'base...</td>\n",
       "      <td>[{'rel': 'alternate', 'type': 'text/html', 'hr...</td>\n",
       "      <td>http://www.nasa.gov/press-release/nasa-selects...</td>\n",
       "      <td>NASA has selected 16 proposals from 12 compani...</td>\n",
       "      <td>{'type': 'text/html', 'language': 'en', 'base'...</td>\n",
       "      <td>http://www.nasa.gov/press-release/nasa-selects...</td>\n",
       "      <td>False</td>\n",
       "      <td>Tue, 25 Apr 2023 14:31 EDT</td>\n",
       "      <td>(2023, 4, 25, 18, 31, 0, 1, 115, 0)</td>\n",
       "      <td>{'href': 'http://www.nasa.gov/rss/dyn/breaking...</td>\n",
       "      <td>486867</td>\n",
       "    </tr>\n",
       "    <tr>\n",
       "      <th>7</th>\n",
       "      <td>NASA Announces Student Winners of Power to Exp...</td>\n",
       "      <td>{'type': 'text/plain', 'language': 'en', 'base...</td>\n",
       "      <td>[{'rel': 'alternate', 'type': 'text/html', 'hr...</td>\n",
       "      <td>http://www.nasa.gov/press-release/nasa-announc...</td>\n",
       "      <td>NASA selected three winners out of nine finali...</td>\n",
       "      <td>{'type': 'text/html', 'language': 'en', 'base'...</td>\n",
       "      <td>http://www.nasa.gov/press-release/nasa-announc...</td>\n",
       "      <td>False</td>\n",
       "      <td>Tue, 25 Apr 2023 10:30 EDT</td>\n",
       "      <td>(2023, 4, 25, 14, 30, 0, 1, 115, 0)</td>\n",
       "      <td>{'href': 'http://www.nasa.gov/rss/dyn/breaking...</td>\n",
       "      <td>486862</td>\n",
       "    </tr>\n",
       "    <tr>\n",
       "      <th>8</th>\n",
       "      <td>NASA, Rocket Lab Set Coverage for Tropical Cyc...</td>\n",
       "      <td>{'type': 'text/plain', 'language': 'en', 'base...</td>\n",
       "      <td>[{'rel': 'alternate', 'type': 'text/html', 'hr...</td>\n",
       "      <td>http://www.nasa.gov/press-release/nasa-rocket-...</td>\n",
       "      <td>NASA and Rocket Lab are targeting 9 p.m. EDT, ...</td>\n",
       "      <td>{'type': 'text/html', 'language': 'en', 'base'...</td>\n",
       "      <td>http://www.nasa.gov/press-release/nasa-rocket-...</td>\n",
       "      <td>False</td>\n",
       "      <td>Mon, 24 Apr 2023 15:18 EDT</td>\n",
       "      <td>(2023, 4, 24, 19, 18, 0, 0, 114, 0)</td>\n",
       "      <td>{'href': 'http://www.nasa.gov/rss/dyn/breaking...</td>\n",
       "      <td>486848</td>\n",
       "    </tr>\n",
       "    <tr>\n",
       "      <th>9</th>\n",
       "      <td>VP Harris, South Korea President Yoon Suk Yeol...</td>\n",
       "      <td>{'type': 'text/plain', 'language': 'en', 'base...</td>\n",
       "      <td>[{'rel': 'alternate', 'type': 'text/html', 'hr...</td>\n",
       "      <td>http://www.nasa.gov/press-release/vp-harris-so...</td>\n",
       "      <td>Vice President Kamala Harris and Republic of K...</td>\n",
       "      <td>{'type': 'text/html', 'language': 'en', 'base'...</td>\n",
       "      <td>http://www.nasa.gov/press-release/vp-harris-so...</td>\n",
       "      <td>False</td>\n",
       "      <td>Mon, 24 Apr 2023 10:51 EDT</td>\n",
       "      <td>(2023, 4, 24, 14, 51, 0, 0, 114, 0)</td>\n",
       "      <td>{'href': 'http://www.nasa.gov/rss/dyn/breaking...</td>\n",
       "      <td>486837</td>\n",
       "    </tr>\n",
       "  </tbody>\n",
       "</table>\n",
       "</div>"
      ],
      "text/plain": [
       "                                               title  \\\n",
       "0  NASA Sets Coverage for Dragon Port Relocation ...   \n",
       "1  Entrepreneurs to Pitch Ideas for Future in NAS...   \n",
       "2  NASA Updates Coverage of Roscosmos Spacewalks ...   \n",
       "3  NASA Sets Coverage for Czech Republic Artemis ...   \n",
       "4  NASA Experts Available for Interviews About Se...   \n",
       "5  NASA Announces Winners of 2023 Human Explorati...   \n",
       "6  NASA Selects 12 Companies to Collaborate on Ke...   \n",
       "7  NASA Announces Student Winners of Power to Exp...   \n",
       "8  NASA, Rocket Lab Set Coverage for Tropical Cyc...   \n",
       "9  VP Harris, South Korea President Yoon Suk Yeol...   \n",
       "\n",
       "                                        title_detail  \\\n",
       "0  {'type': 'text/plain', 'language': 'en', 'base...   \n",
       "1  {'type': 'text/plain', 'language': 'en', 'base...   \n",
       "2  {'type': 'text/plain', 'language': 'en', 'base...   \n",
       "3  {'type': 'text/plain', 'language': 'en', 'base...   \n",
       "4  {'type': 'text/plain', 'language': 'en', 'base...   \n",
       "5  {'type': 'text/plain', 'language': 'en', 'base...   \n",
       "6  {'type': 'text/plain', 'language': 'en', 'base...   \n",
       "7  {'type': 'text/plain', 'language': 'en', 'base...   \n",
       "8  {'type': 'text/plain', 'language': 'en', 'base...   \n",
       "9  {'type': 'text/plain', 'language': 'en', 'base...   \n",
       "\n",
       "                                               links  \\\n",
       "0  [{'rel': 'alternate', 'type': 'text/html', 'hr...   \n",
       "1  [{'rel': 'alternate', 'type': 'text/html', 'hr...   \n",
       "2  [{'rel': 'alternate', 'type': 'text/html', 'hr...   \n",
       "3  [{'rel': 'alternate', 'type': 'text/html', 'hr...   \n",
       "4  [{'rel': 'alternate', 'type': 'text/html', 'hr...   \n",
       "5  [{'rel': 'alternate', 'type': 'text/html', 'hr...   \n",
       "6  [{'rel': 'alternate', 'type': 'text/html', 'hr...   \n",
       "7  [{'rel': 'alternate', 'type': 'text/html', 'hr...   \n",
       "8  [{'rel': 'alternate', 'type': 'text/html', 'hr...   \n",
       "9  [{'rel': 'alternate', 'type': 'text/html', 'hr...   \n",
       "\n",
       "                                                link  \\\n",
       "0  http://www.nasa.gov/press-release/nasa-sets-co...   \n",
       "1  http://www.nasa.gov/press-release/entrepreneur...   \n",
       "2  http://www.nasa.gov/press-release/nasa-updates...   \n",
       "3  http://www.nasa.gov/press-release/nasa-sets-co...   \n",
       "4  http://www.nasa.gov/press-release/nasa-experts...   \n",
       "5  http://www.nasa.gov/press-release/nasa-announc...   \n",
       "6  http://www.nasa.gov/press-release/nasa-selects...   \n",
       "7  http://www.nasa.gov/press-release/nasa-announc...   \n",
       "8  http://www.nasa.gov/press-release/nasa-rocket-...   \n",
       "9  http://www.nasa.gov/press-release/vp-harris-so...   \n",
       "\n",
       "                                             summary  \\\n",
       "0  Four crew members aboard the International Spa...   \n",
       "1  College students in NASA’s Minority University...   \n",
       "2  NASA will provide live coverage as two Roscosm...   \n",
       "3  The Czech Republic is expected to sign the Art...   \n",
       "4  This spring, NASA’s S-MODE (Sub-Mesoscale Ocea...   \n",
       "5  NASA has announced the winners of the 2023 Hum...   \n",
       "6  NASA has selected 16 proposals from 12 compani...   \n",
       "7  NASA selected three winners out of nine finali...   \n",
       "8  NASA and Rocket Lab are targeting 9 p.m. EDT, ...   \n",
       "9  Vice President Kamala Harris and Republic of K...   \n",
       "\n",
       "                                      summary_detail  \\\n",
       "0  {'type': 'text/html', 'language': 'en', 'base'...   \n",
       "1  {'type': 'text/html', 'language': 'en', 'base'...   \n",
       "2  {'type': 'text/html', 'language': 'en', 'base'...   \n",
       "3  {'type': 'text/html', 'language': 'en', 'base'...   \n",
       "4  {'type': 'text/html', 'language': 'en', 'base'...   \n",
       "5  {'type': 'text/html', 'language': 'en', 'base'...   \n",
       "6  {'type': 'text/html', 'language': 'en', 'base'...   \n",
       "7  {'type': 'text/html', 'language': 'en', 'base'...   \n",
       "8  {'type': 'text/html', 'language': 'en', 'base'...   \n",
       "9  {'type': 'text/html', 'language': 'en', 'base'...   \n",
       "\n",
       "                                                  id  guidislink  \\\n",
       "0  http://www.nasa.gov/press-release/nasa-sets-co...       False   \n",
       "1  http://www.nasa.gov/press-release/entrepreneur...       False   \n",
       "2  http://www.nasa.gov/press-release/nasa-updates...       False   \n",
       "3  http://www.nasa.gov/press-release/nasa-sets-co...       False   \n",
       "4  http://www.nasa.gov/press-release/nasa-experts...       False   \n",
       "5  http://www.nasa.gov/press-release/nasa-announc...       False   \n",
       "6  http://www.nasa.gov/press-release/nasa-selects...       False   \n",
       "7  http://www.nasa.gov/press-release/nasa-announc...       False   \n",
       "8  http://www.nasa.gov/press-release/nasa-rocket-...       False   \n",
       "9  http://www.nasa.gov/press-release/vp-harris-so...       False   \n",
       "\n",
       "                    published                     published_parsed  \\\n",
       "0  Mon, 01 May 2023 15:06 EDT    (2023, 5, 1, 19, 6, 0, 0, 121, 0)   \n",
       "1  Thu, 27 Apr 2023 14:02 EDT   (2023, 4, 27, 18, 2, 0, 3, 117, 0)   \n",
       "2  Wed, 26 Apr 2023 14:59 EDT  (2023, 4, 26, 18, 59, 0, 2, 116, 0)   \n",
       "3  Wed, 26 Apr 2023 14:49 EDT  (2023, 4, 26, 18, 49, 0, 2, 116, 0)   \n",
       "4  Wed, 26 Apr 2023 14:09 EDT   (2023, 4, 26, 18, 9, 0, 2, 116, 0)   \n",
       "5  Wed, 26 Apr 2023 09:04 EDT   (2023, 4, 26, 13, 4, 0, 2, 116, 0)   \n",
       "6  Tue, 25 Apr 2023 14:31 EDT  (2023, 4, 25, 18, 31, 0, 1, 115, 0)   \n",
       "7  Tue, 25 Apr 2023 10:30 EDT  (2023, 4, 25, 14, 30, 0, 1, 115, 0)   \n",
       "8  Mon, 24 Apr 2023 15:18 EDT  (2023, 4, 24, 19, 18, 0, 0, 114, 0)   \n",
       "9  Mon, 24 Apr 2023 10:51 EDT  (2023, 4, 24, 14, 51, 0, 0, 114, 0)   \n",
       "\n",
       "                                              source dc_identifier  \n",
       "0  {'href': 'http://www.nasa.gov/rss/dyn/breaking...        486960  \n",
       "1  {'href': 'http://www.nasa.gov/rss/dyn/breaking...        486922  \n",
       "2  {'href': 'http://www.nasa.gov/rss/dyn/breaking...        486897  \n",
       "3  {'href': 'http://www.nasa.gov/rss/dyn/breaking...        486898  \n",
       "4  {'href': 'http://www.nasa.gov/rss/dyn/breaking...        486894  \n",
       "5  {'href': 'http://www.nasa.gov/rss/dyn/breaking...        486884  \n",
       "6  {'href': 'http://www.nasa.gov/rss/dyn/breaking...        486867  \n",
       "7  {'href': 'http://www.nasa.gov/rss/dyn/breaking...        486862  \n",
       "8  {'href': 'http://www.nasa.gov/rss/dyn/breaking...        486848  \n",
       "9  {'href': 'http://www.nasa.gov/rss/dyn/breaking...        486837  "
      ]
     },
     "execution_count": 110,
     "metadata": {},
     "output_type": "execute_result"
    }
   ],
   "source": [
    "# Opcion1: Da un error, \"All arrays must be of the same length\"\n",
    "#  pd.DataFrame(url_question4['feed'])\n",
    "# Opcion2:\n",
    "df = pd.DataFrame(url_question4['entries'])\n",
    "df"
   ]
  },
  {
   "cell_type": "markdown",
   "metadata": {},
   "source": [
    "### 10. Count the number of entries per author and sort them in descending order."
   ]
  },
  {
   "cell_type": "code",
   "execution_count": 109,
   "metadata": {},
   "outputs": [
    {
     "data": {
      "text/plain": [
       "dict_keys(['title', 'title_detail', 'links', 'link', 'summary', 'summary_detail', 'id', 'guidislink', 'published', 'published_parsed', 'source', 'dc_identifier'])"
      ]
     },
     "execution_count": 109,
     "metadata": {},
     "output_type": "execute_result"
    }
   ],
   "source": [
    "# No tiene la key 'author' para hacer el conteo.\n",
    "url_question4['entries'][0].keys()\n"
   ]
  },
  {
   "cell_type": "code",
   "execution_count": 112,
   "metadata": {},
   "outputs": [
    {
     "data": {
      "text/plain": [
       "NASA Sets Coverage for Dragon Port Relocation on Space Station            1\n",
       "Entrepreneurs to Pitch Ideas for Future in NASA ‘Space Tank’              1\n",
       "NASA Updates Coverage of Roscosmos Spacewalks at Space Station            1\n",
       "NASA Sets Coverage for Czech Republic Artemis Accords Signing Ceremony    1\n",
       "NASA Experts Available for Interviews About Sea and Sky Campaign          1\n",
       "NASA Announces Winners of 2023 Human Exploration Rover Challenge          1\n",
       "NASA Selects 12 Companies to Collaborate on Key Technology Development    1\n",
       "NASA Announces Student Winners of Power to Explore Challenge              1\n",
       "NASA, Rocket Lab Set Coverage for Tropical Cyclones Mission               1\n",
       "VP Harris, South Korea President Yoon Suk Yeol to Visit NASA Goddard      1\n",
       "Name: title, dtype: int64"
      ]
     },
     "execution_count": 112,
     "metadata": {},
     "output_type": "execute_result"
    }
   ],
   "source": [
    "# Lo hago por titulos.\n",
    "\n",
    "contar_titulos = df['title'].value_counts().sort_values(ascending=False)\n",
    "contar_titulos"
   ]
  },
  {
   "cell_type": "markdown",
   "metadata": {},
   "source": [
    "### 11. Add a new column to the data frame that contains the length (number of characters) of each entry title. Return a data frame that contains the title, author, and title length of each entry in descending order (longest title length at the top)."
   ]
  },
  {
   "cell_type": "code",
   "execution_count": 114,
   "metadata": {},
   "outputs": [
    {
     "data": {
      "text/html": [
       "<div>\n",
       "<style scoped>\n",
       "    .dataframe tbody tr th:only-of-type {\n",
       "        vertical-align: middle;\n",
       "    }\n",
       "\n",
       "    .dataframe tbody tr th {\n",
       "        vertical-align: top;\n",
       "    }\n",
       "\n",
       "    .dataframe thead th {\n",
       "        text-align: right;\n",
       "    }\n",
       "</style>\n",
       "<table border=\"1\" class=\"dataframe\">\n",
       "  <thead>\n",
       "    <tr style=\"text-align: right;\">\n",
       "      <th></th>\n",
       "      <th>title</th>\n",
       "      <th>len_titulo</th>\n",
       "    </tr>\n",
       "  </thead>\n",
       "  <tbody>\n",
       "    <tr>\n",
       "      <th>0</th>\n",
       "      <td>NASA Sets Coverage for Dragon Port Relocation ...</td>\n",
       "      <td>62</td>\n",
       "    </tr>\n",
       "    <tr>\n",
       "      <th>1</th>\n",
       "      <td>Entrepreneurs to Pitch Ideas for Future in NAS...</td>\n",
       "      <td>60</td>\n",
       "    </tr>\n",
       "    <tr>\n",
       "      <th>2</th>\n",
       "      <td>NASA Updates Coverage of Roscosmos Spacewalks ...</td>\n",
       "      <td>62</td>\n",
       "    </tr>\n",
       "    <tr>\n",
       "      <th>3</th>\n",
       "      <td>NASA Sets Coverage for Czech Republic Artemis ...</td>\n",
       "      <td>70</td>\n",
       "    </tr>\n",
       "    <tr>\n",
       "      <th>4</th>\n",
       "      <td>NASA Experts Available for Interviews About Se...</td>\n",
       "      <td>64</td>\n",
       "    </tr>\n",
       "    <tr>\n",
       "      <th>5</th>\n",
       "      <td>NASA Announces Winners of 2023 Human Explorati...</td>\n",
       "      <td>64</td>\n",
       "    </tr>\n",
       "    <tr>\n",
       "      <th>6</th>\n",
       "      <td>NASA Selects 12 Companies to Collaborate on Ke...</td>\n",
       "      <td>70</td>\n",
       "    </tr>\n",
       "    <tr>\n",
       "      <th>7</th>\n",
       "      <td>NASA Announces Student Winners of Power to Exp...</td>\n",
       "      <td>60</td>\n",
       "    </tr>\n",
       "    <tr>\n",
       "      <th>8</th>\n",
       "      <td>NASA, Rocket Lab Set Coverage for Tropical Cyc...</td>\n",
       "      <td>59</td>\n",
       "    </tr>\n",
       "    <tr>\n",
       "      <th>9</th>\n",
       "      <td>VP Harris, South Korea President Yoon Suk Yeol...</td>\n",
       "      <td>68</td>\n",
       "    </tr>\n",
       "  </tbody>\n",
       "</table>\n",
       "</div>"
      ],
      "text/plain": [
       "                                               title  len_titulo\n",
       "0  NASA Sets Coverage for Dragon Port Relocation ...          62\n",
       "1  Entrepreneurs to Pitch Ideas for Future in NAS...          60\n",
       "2  NASA Updates Coverage of Roscosmos Spacewalks ...          62\n",
       "3  NASA Sets Coverage for Czech Republic Artemis ...          70\n",
       "4  NASA Experts Available for Interviews About Se...          64\n",
       "5  NASA Announces Winners of 2023 Human Explorati...          64\n",
       "6  NASA Selects 12 Companies to Collaborate on Ke...          70\n",
       "7  NASA Announces Student Winners of Power to Exp...          60\n",
       "8  NASA, Rocket Lab Set Coverage for Tropical Cyc...          59\n",
       "9  VP Harris, South Korea President Yoon Suk Yeol...          68"
      ]
     },
     "execution_count": 114,
     "metadata": {},
     "output_type": "execute_result"
    }
   ],
   "source": [
    "df['len_titulo'] = df['title'].apply(len)\n",
    "df_nuevo = df.loc[:, ['title', 'len_titulo']]\n",
    "df_nuevo"
   ]
  },
  {
   "cell_type": "markdown",
   "metadata": {},
   "source": [
    "### 12. Create a list of entry titles whose summary includes the phrase \"machine learning.\""
   ]
  },
  {
   "cell_type": "code",
   "execution_count": null,
   "metadata": {},
   "outputs": [],
   "source": []
  },
  {
   "cell_type": "code",
   "execution_count": 128,
   "metadata": {},
   "outputs": [
    {
     "data": {
      "text/plain": [
       "[0   NaN\n",
       " 1   NaN\n",
       " 2   NaN\n",
       " 3   NaN\n",
       " 4   NaN\n",
       " 5   NaN\n",
       " 6   NaN\n",
       " 7   NaN\n",
       " 8   NaN\n",
       " 9   NaN\n",
       " Name: summary_detail, dtype: float64]"
      ]
     },
     "execution_count": 128,
     "metadata": {},
     "output_type": "execute_result"
    }
   ],
   "source": [
    "ml_df = [df[\"summary_detail\"].str.contains(\"machine learning\")]\n",
    "ml_df"
   ]
  }
 ],
 "metadata": {
  "kernelspec": {
   "display_name": "Python 3 (ipykernel)",
   "language": "python",
   "name": "python3"
  },
  "language_info": {
   "codemirror_mode": {
    "name": "ipython",
    "version": 3
   },
   "file_extension": ".py",
   "mimetype": "text/x-python",
   "name": "python",
   "nbconvert_exporter": "python",
   "pygments_lexer": "ipython3",
   "version": "3.9.13"
  }
 },
 "nbformat": 4,
 "nbformat_minor": 2
}
